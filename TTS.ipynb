{
 "cells": [
  {
   "cell_type": "code",
   "execution_count": 5,
   "metadata": {},
   "outputs": [],
   "source": [
    "import azure.cognitiveservices.speech as speechsdk\n",
    "import os \n",
    "\n",
    "def TTS(book_name, text):\n",
    "    service_region = \"eastus\"\n",
    "    speech_key = os.environ.get(\"SPEECH_KEY\")\n",
    "    speech_config = speechsdk.SpeechConfig(subscription=speech_key, region=service_region)\n",
    "\n",
    "    # Set the voice name, refer to https://aka.ms/speech/voices/neural for full list.\n",
    "    speech_config.speech_synthesis_voice_name = \"zh-TW-YunJheNeural\"\n",
    "\n",
    "    # Creates a speech synthesizer using the default speaker as audio output.\n",
    "    speech_synthesizer = speechsdk.SpeechSynthesizer(speech_config=speech_config)\n",
    "\n",
    "    # Synthesizes the received text to speech.\n",
    "    # The synthesized speech is expected to be heard on the speaker with this line executed.\n",
    "    result = speech_synthesizer.speak_text_async(text).get()\n",
    "\n",
    "    # Checks result.\n",
    "    if result.reason == speechsdk.ResultReason.SynthesizingAudioCompleted:\n",
    "        print(\"Speech synthesized to speaker for text [{}]\".format(text))\n",
    "        with open(book_name+\".wav\", \"wb\") as audio_file:\n",
    "            audio_file.write(result.audio_data)\n",
    "\n",
    "    elif result.reason == speechsdk.ResultReason.Canceled:\n",
    "        cancellation_details = result.cancellation_details\n",
    "        print(\"Speech synthesis canceled: {}\".format(cancellation_details.reason))\n",
    "        if cancellation_details.reason == speechsdk.CancellationReason.Error:\n",
    "            if cancellation_details.error_details:\n",
    "                print(\"Error details: {}\".format(cancellation_details.error_details))\n",
    "        print(\"Did you update the subscription info?\")\n"
   ]
  },
  {
   "cell_type": "code",
   "execution_count": 6,
   "metadata": {},
   "outputs": [
    {
     "name": "stdout",
     "output_type": "stream",
     "text": [
      "Speech synthesized to speaker for text [這是一個測試]\n"
     ]
    }
   ],
   "source": [
    "TTS('test', \"這是一個測試\")"
   ]
  }
 ],
 "metadata": {
  "kernelspec": {
   "display_name": "Python 3",
   "language": "python",
   "name": "python3"
  },
  "language_info": {
   "codemirror_mode": {
    "name": "ipython",
    "version": 3
   },
   "file_extension": ".py",
   "mimetype": "text/x-python",
   "name": "python",
   "nbconvert_exporter": "python",
   "pygments_lexer": "ipython3",
   "version": "3.11.0"
  }
 },
 "nbformat": 4,
 "nbformat_minor": 2
}

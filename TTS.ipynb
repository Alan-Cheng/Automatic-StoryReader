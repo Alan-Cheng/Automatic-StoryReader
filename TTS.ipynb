{
 "cells": [
  {
   "cell_type": "code",
   "execution_count": 24,
   "metadata": {},
   "outputs": [],
   "source": [
    "import pyttsx3\n",
    "\n",
    "# 初始化\n",
    "engine = pyttsx3.init()\n",
    "\n",
    "# 設置要使用的語言（例如英文）\n",
    "engine.setProperty('voice', 'zh')  # 可以根據需要更改為其他支持的語言\n",
    "\n",
    "# 設置要使用的語音（例如男聲或女聲）\n",
    "voices = engine.getProperty('voices')\n",
    "engine.setProperty('voice', voices[0].id)  # 這裡的0表示使用第一個聲音，你可以根據需要更改為其他聲音\n",
    "engine.setProperty('rate', 150)  # 調整速度，數值越大速度越快\n",
    "# 要轉換的文字\n",
    "text = \"對於 gTTS，並沒有直接提供更改口音的選項。gTTS 主要是基於谷歌的文本到語音服務，該服務提供了一個標準的語音合成模型，並沒有提供直接控制口音的功能。如果你需要更多控制，包括更改口音和其他語音屬性，你可能需要尋找其他語音合成引擎或庫，如 Amazon Polly、Microsoft Azure Text to Speech 等，這些服務通常提供更多的自定義選項，包括選擇不同的口音和語音特性。\"\n",
    "\n",
    "# 將文字轉換為語音\n",
    "engine.say(text)\n",
    "\n",
    "# 播放語音\n",
    "engine.runAndWait()\n"
   ]
  },
  {
   "cell_type": "code",
   "execution_count": 23,
   "metadata": {},
   "outputs": [
    {
     "data": {
      "text/plain": [
       "0"
      ]
     },
     "execution_count": 23,
     "metadata": {},
     "output_type": "execute_result"
    }
   ],
   "source": [
    "from gtts import gTTS\n",
    "import os\n",
    "\n",
    "# 要轉換的文字\n",
    "text = \"對於 gTTS，並沒有直接提供更改口音的選項。gTTS 主要是基於谷歌的文本到語音服務，該服務提供了一個標準的語音合成模型，並沒有提供直接控制口音的功能。如果你需要更多控制，包括更改口音和其他語音屬性，你可能需要尋找其他語音合成引擎或庫，如 Amazon Polly、Microsoft Azure Text to Speech 等，這些服務通常提供更多的自定義選項，包括選擇不同的口音和語音特性。\"\n",
    "\n",
    "# 使用 gTTS 將文字轉換為語音，並指定語言為台灣中文\n",
    "tts = gTTS(text, lang='zh-tw')\n",
    "\n",
    "\n",
    "# 保存語音到檔案\n",
    "tts.save(\"output.mp3\")\n",
    "\n",
    "# 播放生成的語音\n",
    "os.system(\"start output.mp3\")\n"
   ]
  }
 ],
 "metadata": {
  "kernelspec": {
   "display_name": "Python 3",
   "language": "python",
   "name": "python3"
  },
  "language_info": {
   "codemirror_mode": {
    "name": "ipython",
    "version": 3
   },
   "file_extension": ".py",
   "mimetype": "text/x-python",
   "name": "python",
   "nbconvert_exporter": "python",
   "pygments_lexer": "ipython3",
   "version": "3.11.2"
  }
 },
 "nbformat": 4,
 "nbformat_minor": 2
}

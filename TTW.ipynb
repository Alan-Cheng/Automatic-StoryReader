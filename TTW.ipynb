{
 "cells": [
  {
   "cell_type": "code",
   "execution_count": 1,
   "metadata": {},
   "outputs": [],
   "source": [
    "import whisper\n",
    "import torch\n",
    "from pathlib import Path\n",
    "from whisper.utils import get_writer\n",
    "\n",
    "# GlobalVariable\n",
    "Model_Type = \"base\"\n",
    "Data_File = \"DBMS2023_midterm_project.mp4\"\n",
    "TextFileName = Path(Data_File).stem\n",
    "file_name = f\"{TextFileName}\"\n",
    "output_directory = \"C:\\\\Users\\\\user\\\\Desktop\"\n",
    "\n",
    "# check if you have a GPU available\n",
    "DEVICE = \"cuda\" if torch.cuda.is_available() else \"cpu\"\n",
    "\n",
    "#load Whipser model\n",
    "model = whisper.load_model(Model_Type, device=DEVICE)\n",
    "result = model.transcribe(Data_File)\n",
    "\n",
    "# save TXT\n",
    "txt_writer = get_writer(\"txt\", output_directory)\n",
    "txt_writer(result, file_name, options={\"format\": \"txt\"})\n",
    "\n",
    "# save SRT\n",
    "srt_writer = get_writer(\"srt\", output_directory)\n",
    "srt_writer(result, file_name, options={\"max_line_width\":1000, \"max_line_count\":2, \"highlight_words\":False})"
   ]
  }
 ],
 "metadata": {
  "kernelspec": {
   "display_name": "Python 3",
   "language": "python",
   "name": "python3"
  },
  "language_info": {
   "codemirror_mode": {
    "name": "ipython",
    "version": 3
   },
   "file_extension": ".py",
   "mimetype": "text/x-python",
   "name": "python",
   "nbconvert_exporter": "python",
   "pygments_lexer": "ipython3",
   "version": "3.11.2"
  }
 },
 "nbformat": 4,
 "nbformat_minor": 2
}

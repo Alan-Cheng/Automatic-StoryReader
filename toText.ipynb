{
 "cells": [
  {
   "cell_type": "code",
   "execution_count": 1,
   "metadata": {},
   "outputs": [],
   "source": [
    "import ebooklib\n",
    "from ebooklib import epub\n",
    "from bs4 import BeautifulSoup\n",
    "import os\n",
    "import re\n",
    "import glob"
   ]
  },
  {
   "cell_type": "code",
   "execution_count": 2,
   "metadata": {},
   "outputs": [],
   "source": [
    "def write_file(epub_path, tag, contents):\n",
    "    epub_name = os.path.basename(epub_path).split('.')[0]\n",
    "    if not os.path.exists(os.getcwd() + '/text/' + epub_name):\n",
    "        os.mkdir(os.getcwd() + '/text/' + epub_name)\n",
    "    with open(os.getcwd() + '/text/' + epub_name + '/' + epub_name + '_' + tag + '.txt', 'w', encoding='utf-8') as f:\n",
    "        for content in contents:\n",
    "            f.write(content + '\\n')"
   ]
  },
  {
   "cell_type": "code",
   "execution_count": 3,
   "metadata": {},
   "outputs": [],
   "source": [
    "def epub_to_text(epub_path):\n",
    "    book = epub.read_epub(epub_path)\n",
    "\n",
    "    files = []\n",
    "    for item in book.get_items():\n",
    "        if item.get_type() == ebooklib.ITEM_DOCUMENT:\n",
    "            files.append(item.file_name)\n",
    "    filtered_files = sorted([file for file in files if re.search(r'\\.xhtml$', file)], key=lambda x: int(re.search(r'\\d+', x).group()) if re.search(r'\\d+', x) else 0)\n",
    "\n",
    "    h_tag = ['h1', 'h2', 'h3', 'h4', 'h5', 'h6', 'p']\n",
    "\n",
    "    for idx, f_file in enumerate(filtered_files):\n",
    "        for item in book.get_items():\n",
    "            if f_file in str(item):\n",
    "                #取出h跟p標籤的內容\n",
    "                h = []\n",
    "                p = []\n",
    "                if item.get_type() == ebooklib.ITEM_DOCUMENT:\n",
    "                    #取出h跟p標籤的內容\n",
    "                    soup = BeautifulSoup(item.get_content(), 'html.parser')\n",
    "                    for content in soup.find_all(h_tag + ['p']):\n",
    "                        if content.name == 'p':\n",
    "                            p.append(content.text)\n",
    "                        else:\n",
    "                            h.append(content.text)\n",
    "                write_file(epub_path, 'h'+str(idx), h)\n",
    "                write_file(epub_path, 'p'+str(idx), p)\n",
    "                break"
   ]
  },
  {
   "cell_type": "code",
   "execution_count": 4,
   "metadata": {},
   "outputs": [
    {
     "name": "stderr",
     "output_type": "stream",
     "text": [
      "c:\\Users\\USER\\AppData\\Local\\Programs\\Python\\Python311\\Lib\\site-packages\\ebooklib\\epub.py:1395: UserWarning: In the future version we will turn default option ignore_ncx to True.\n",
      "  warnings.warn('In the future version we will turn default option ignore_ncx to True.')\n"
     ]
    }
   ],
   "source": [
    "folder_path = 'ebook'\n",
    "\n",
    "\n",
    "epub_files = glob.glob(os.path.join(folder_path, '*.epub'))\n",
    "\n",
    "# 打印所有epub文件的路径\n",
    "for file in epub_files:\n",
    "    epub_to_text(file)"
   ]
  }
 ],
 "metadata": {
  "kernelspec": {
   "display_name": "Python 3",
   "language": "python",
   "name": "python3"
  },
  "language_info": {
   "codemirror_mode": {
    "name": "ipython",
    "version": 3
   },
   "file_extension": ".py",
   "mimetype": "text/x-python",
   "name": "python",
   "nbconvert_exporter": "python",
   "pygments_lexer": "ipython3",
   "version": "3.11.0"
  }
 },
 "nbformat": 4,
 "nbformat_minor": 2
}
